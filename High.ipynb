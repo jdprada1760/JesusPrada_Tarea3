{
 "cells": [
  {
   "cell_type": "code",
   "execution_count": 1,
   "metadata": {
    "collapsed": false,
    "deletable": true,
    "editable": true
   },
   "outputs": [
    {
     "name": "stdout",
     "output_type": "stream",
     "text": [
      "high.csv  highp_finalresults.csv  low.csv  lowp_finalresults.csv\r\n"
     ]
    }
   ],
   "source": [
    "import numpy as np\n",
    "import matplotlib.pyplot as plt\n",
    "%matplotlib inline\n",
    "import pandas as pd\n",
    "%ls Data"
   ]
  },
  {
   "cell_type": "markdown",
   "metadata": {},
   "source": [
    "# Data Formatting\n",
    "Here we give format to data for better manipulation.\n",
    "\n",
    "Few things are important to state about the following process of formatting:\n",
    "\n",
    "### Mass parameters were passed to logarithmic scale as it is a usual practice in astrophysics for a better analysis of various relations. \n",
    "\n",
    "### Planetary parameters [a(i),emegas(i),rplanet(i)/radtie] were omitted as they are not necessary to calculate quantities to predict, nor they are initial conditions of the system (we want to predict)**\n",
    "\n",
    "### Parameters ['ident', 't', 'gama', 'apert', 'fpert', 'constmigI'] were dropped as well. Identity index is an arbitrary identifier and is not taken into account. The rest of omitted parameters are the same for all systems and have no prediction power. For these parameters, we calculated the standard deviation and verified that it is zero. (Data_Formatting.ipynb)\n",
    "\n",
    "\n",
    "----------------------------\n",
    "\n",
    "----------------------------"
   ]
  },
  {
   "cell_type": "code",
   "execution_count": null,
   "metadata": {
    "collapsed": true,
    "deletable": true,
    "editable": true
   },
   "outputs": [],
   "source": [
    "# Loads data (Fills NaN values as 0 for simplicity) THERE IS ONLY ONE NaN VALUE \n",
    "data=pd.read_csv(\"./Data/highp_finalresults.csv\",sep = ',',\n",
    "                 engine = 'python',skipinitialspace = True,na_values = 'NaN ').fillna(0)\n",
    "# Each row, (for now is a different planet)\n",
    "# Adds column named n_planet___ it is later going to be summed\n",
    "data[\"n_planets\"] = 1\n",
    "\n",
    "# Selects useful planet data only to produce: number of planets, total mass of planets. \n",
    "# Identity of system is conserved\n",
    "planet_data = data[['ident','emepla(i)/emet','n_planets']]\n",
    "\n",
    "# Selects system data only. \n",
    "# System columns corresponding to initial condition\n",
    "# According to repository README.md, we have to drop: a(i),emegas(i),emepla(i)/emed,rplanet(i)/radtie\n",
    "system_data = data.drop(['a(i)','emegas(i)','emepla(i)/emet','rplanet(i)/radtie','n_planets'],1)\n",
    "\n",
    "# System data is repeated as rows represent planets -> so we take the mean\n",
    "system_data = system_data.groupby(system_data['ident']).mean()\n",
    "\n",
    "# From planets data it is only necesary the total data (total mass, total number of planets)\n",
    "planet_data = planet_data.groupby(planet_data['ident']).sum()\n",
    "\n",
    "# Concatenate two data frames to obtain final formatted data\n",
    "data = pd.concat([system_data,planet_data], axis=1).reset_index()\n",
    "# Important position of parameters\n",
    "print(np.where(data.keys()=='n_planets'),np.where(data.keys()=='emepla(i)/emet'))\n",
    "\n",
    "# Drops unimportant parameters with null std()\n",
    "# 0,2,8,9,10,11 are unimportant parameters\n",
    "# Data for the first point\n",
    "print(data.keys()[[0,2,8,9,10,11,-1]])\n",
    "data = data.drop(data.keys()[[0,2,8,9,10,11,-1]],1)\n",
    "\n",
    "# Logarithmic scales for mass-related parameters (1e-5 to avoid log(0)=-infty)\n",
    "data['emepla(i)/emet'] = np.log(data['emepla(i)/emet']+1e-5)\n",
    "data['emestar'] = np.log(data['emestar']+1e-5)\n",
    "data['sigmag_0'] = np.log(data['sigmag_0']+1e-5)"
   ]
  },
  {
   "cell_type": "code",
   "execution_count": null,
   "metadata": {
    "collapsed": true
   },
   "outputs": [],
   "source": []
  }
 ],
 "metadata": {
  "kernelspec": {
   "display_name": "Python 3",
   "language": "python",
   "name": "python3"
  },
  "language_info": {
   "codemirror_mode": {
    "name": "ipython",
    "version": 3
   },
   "file_extension": ".py",
   "mimetype": "text/x-python",
   "name": "python",
   "nbconvert_exporter": "python",
   "pygments_lexer": "ipython3",
   "version": "3.5.2"
  }
 },
 "nbformat": 4,
 "nbformat_minor": 2
}
