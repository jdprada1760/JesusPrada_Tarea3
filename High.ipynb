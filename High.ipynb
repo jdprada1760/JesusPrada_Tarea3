{
 "cells": [
  {
   "cell_type": "code",
   "execution_count": 8,
   "metadata": {
    "collapsed": false,
    "deletable": true,
    "editable": true
   },
   "outputs": [
    {
     "name": "stdout",
     "output_type": "stream",
     "text": [
      "high.csv  highp_finalresults.csv  low.csv  lowp_finalresults.csv\r\n"
     ]
    }
   ],
   "source": [
    "import numpy as np\n",
    "import matplotlib.pyplot as plt\n",
    "from sklearn.model_selection import train_test_split\n",
    "from sklearn.neighbors import KNeighborsRegressor\n",
    "%matplotlib inline\n",
    "import pandas as pd\n",
    "%ls Data"
   ]
  },
  {
   "cell_type": "markdown",
   "metadata": {
    "deletable": true,
    "editable": true
   },
   "source": [
    "# Data Formatting\n",
    "Here we give format to data for better manipulation.\n",
    "\n",
    "Few things are important to state about the following process of formatting:\n",
    "\n",
    "### Mass parameters were passed to logarithmic scale as it is a usual practice in astrophysics for a better analysis of various relations. \n",
    "\n",
    "### Planetary parameters [a(i),emegas(i),rplanet(i)/radtie] were omitted as they are not necessary to calculate quantities to predict, nor they are initial conditions of the system (we want to predict).\n",
    "\n",
    "### Parameters ['ident', 't', 'gama', 'apert', 'fpert', 'constmigI'] were dropped as well. Identity index is an arbitrary identifier and is not taken into account. The rest of omitted parameters are the same for all systems and have no prediction power. For these parameters, we calculated the standard deviation and verified that it is zero. (Data_Formatting.ipynb).\n",
    "\n",
    "\n",
    "----------------------------\n",
    "\n",
    "----------------------------"
   ]
  },
  {
   "cell_type": "code",
   "execution_count": 9,
   "metadata": {
    "collapsed": false,
    "deletable": true,
    "editable": true
   },
   "outputs": [
    {
     "name": "stdout",
     "output_type": "stream",
     "text": [
      "Index(['ident', 't', 'gama', 'apert', 'fpert', 'constmigI'], dtype='object')\n",
      "number of planets, total mass, mass efficiency (array([9]),) (array([8]),) (array([10]),)\n"
     ]
    },
    {
     "data": {
      "text/html": [
       "<div>\n",
       "<table border=\"1\" class=\"dataframe\">\n",
       "  <thead>\n",
       "    <tr style=\"text-align: right;\">\n",
       "      <th></th>\n",
       "      <th>it</th>\n",
       "      <th>emestar</th>\n",
       "      <th>rc</th>\n",
       "      <th>qest</th>\n",
       "      <th>sigmag_0</th>\n",
       "      <th>emed</th>\n",
       "      <th>emetal</th>\n",
       "      <th>taugas</th>\n",
       "      <th>emepla(i)/emet</th>\n",
       "      <th>n_planets</th>\n",
       "      <th>m_efficiency</th>\n",
       "    </tr>\n",
       "  </thead>\n",
       "  <tbody>\n",
       "    <tr>\n",
       "      <th>0</th>\n",
       "      <td>199993</td>\n",
       "      <td>75.157068</td>\n",
       "      <td>59.882370</td>\n",
       "      <td>1.110726</td>\n",
       "      <td>51.287674</td>\n",
       "      <td>-2.040144</td>\n",
       "      <td>0.077070</td>\n",
       "      <td>9.268935e+06</td>\n",
       "      <td>2.096372</td>\n",
       "      <td>11</td>\n",
       "      <td>62.589101</td>\n",
       "    </tr>\n",
       "    <tr>\n",
       "      <th>1</th>\n",
       "      <td>198840</td>\n",
       "      <td>74.422324</td>\n",
       "      <td>40.040195</td>\n",
       "      <td>3.201758</td>\n",
       "      <td>16.765976</td>\n",
       "      <td>-3.962790</td>\n",
       "      <td>-0.092791</td>\n",
       "      <td>3.525594e+06</td>\n",
       "      <td>1.039386</td>\n",
       "      <td>13</td>\n",
       "      <td>148.814199</td>\n",
       "    </tr>\n",
       "    <tr>\n",
       "      <th>2</th>\n",
       "      <td>199995</td>\n",
       "      <td>75.360733</td>\n",
       "      <td>40.647163</td>\n",
       "      <td>1.965345</td>\n",
       "      <td>67.644768</td>\n",
       "      <td>-2.538181</td>\n",
       "      <td>0.514770</td>\n",
       "      <td>9.390406e+06</td>\n",
       "      <td>2.076882</td>\n",
       "      <td>9</td>\n",
       "      <td>101.006870</td>\n",
       "    </tr>\n",
       "    <tr>\n",
       "      <th>3</th>\n",
       "      <td>199755</td>\n",
       "      <td>74.967751</td>\n",
       "      <td>29.539343</td>\n",
       "      <td>9.568532</td>\n",
       "      <td>16.213096</td>\n",
       "      <td>-4.604171</td>\n",
       "      <td>0.328146</td>\n",
       "      <td>1.644711e+06</td>\n",
       "      <td>1.938003</td>\n",
       "      <td>18</td>\n",
       "      <td>694.485525</td>\n",
       "    </tr>\n",
       "    <tr>\n",
       "      <th>4</th>\n",
       "      <td>199319</td>\n",
       "      <td>74.742551</td>\n",
       "      <td>61.195038</td>\n",
       "      <td>2.230675</td>\n",
       "      <td>15.866622</td>\n",
       "      <td>-3.169848</td>\n",
       "      <td>-0.220031</td>\n",
       "      <td>9.468353e+06</td>\n",
       "      <td>1.161167</td>\n",
       "      <td>10</td>\n",
       "      <td>76.039252</td>\n",
       "    </tr>\n",
       "    <tr>\n",
       "      <th>5</th>\n",
       "      <td>199834</td>\n",
       "      <td>75.485455</td>\n",
       "      <td>38.977428</td>\n",
       "      <td>5.082291</td>\n",
       "      <td>31.660674</td>\n",
       "      <td>-3.381101</td>\n",
       "      <td>-0.150160</td>\n",
       "      <td>1.014449e+06</td>\n",
       "      <td>1.539754</td>\n",
       "      <td>19</td>\n",
       "      <td>137.159726</td>\n",
       "    </tr>\n",
       "    <tr>\n",
       "      <th>6</th>\n",
       "      <td>198714</td>\n",
       "      <td>74.912779</td>\n",
       "      <td>47.343380</td>\n",
       "      <td>5.121542</td>\n",
       "      <td>12.623480</td>\n",
       "      <td>-3.911523</td>\n",
       "      <td>0.021273</td>\n",
       "      <td>1.790533e+06</td>\n",
       "      <td>1.220502</td>\n",
       "      <td>17</td>\n",
       "      <td>169.443990</td>\n",
       "    </tr>\n",
       "    <tr>\n",
       "      <th>7</th>\n",
       "      <td>199619</td>\n",
       "      <td>74.853960</td>\n",
       "      <td>42.739063</td>\n",
       "      <td>3.225643</td>\n",
       "      <td>22.460303</td>\n",
       "      <td>-3.540115</td>\n",
       "      <td>-0.092571</td>\n",
       "      <td>2.721395e+06</td>\n",
       "      <td>1.674280</td>\n",
       "      <td>12</td>\n",
       "      <td>183.963532</td>\n",
       "    </tr>\n",
       "    <tr>\n",
       "      <th>8</th>\n",
       "      <td>198489</td>\n",
       "      <td>75.488793</td>\n",
       "      <td>58.158928</td>\n",
       "      <td>4.369815</td>\n",
       "      <td>18.402952</td>\n",
       "      <td>-3.123338</td>\n",
       "      <td>-0.282408</td>\n",
       "      <td>6.017040e+06</td>\n",
       "      <td>1.385713</td>\n",
       "      <td>12</td>\n",
       "      <td>90.856065</td>\n",
       "    </tr>\n",
       "    <tr>\n",
       "      <th>9</th>\n",
       "      <td>199991</td>\n",
       "      <td>75.323966</td>\n",
       "      <td>30.851170</td>\n",
       "      <td>1.224490</td>\n",
       "      <td>163.499726</td>\n",
       "      <td>-2.207184</td>\n",
       "      <td>-0.065073</td>\n",
       "      <td>1.576468e+06</td>\n",
       "      <td>2.360289</td>\n",
       "      <td>11</td>\n",
       "      <td>96.309095</td>\n",
       "    </tr>\n",
       "    <tr>\n",
       "      <th>10</th>\n",
       "      <td>199732</td>\n",
       "      <td>74.617005</td>\n",
       "      <td>42.180790</td>\n",
       "      <td>2.386844</td>\n",
       "      <td>24.649033</td>\n",
       "      <td>-3.473446</td>\n",
       "      <td>-0.098942</td>\n",
       "      <td>7.294462e+06</td>\n",
       "      <td>1.660690</td>\n",
       "      <td>10</td>\n",
       "      <td>169.772032</td>\n",
       "    </tr>\n",
       "    <tr>\n",
       "      <th>11</th>\n",
       "      <td>199950</td>\n",
       "      <td>75.296079</td>\n",
       "      <td>41.715393</td>\n",
       "      <td>4.098646</td>\n",
       "      <td>29.266948</td>\n",
       "      <td>-3.323959</td>\n",
       "      <td>0.112764</td>\n",
       "      <td>9.624999e+06</td>\n",
       "      <td>2.158372</td>\n",
       "      <td>7</td>\n",
       "      <td>240.472960</td>\n",
       "    </tr>\n",
       "    <tr>\n",
       "      <th>12</th>\n",
       "      <td>188333</td>\n",
       "      <td>74.706342</td>\n",
       "      <td>54.821281</td>\n",
       "      <td>3.337089</td>\n",
       "      <td>12.238906</td>\n",
       "      <td>-3.649274</td>\n",
       "      <td>-0.386253</td>\n",
       "      <td>1.458284e+06</td>\n",
       "      <td>-0.823915</td>\n",
       "      <td>5</td>\n",
       "      <td>16.873102</td>\n",
       "    </tr>\n",
       "    <tr>\n",
       "      <th>13</th>\n",
       "      <td>199916</td>\n",
       "      <td>75.783002</td>\n",
       "      <td>36.672222</td>\n",
       "      <td>3.314294</td>\n",
       "      <td>73.636171</td>\n",
       "      <td>-2.659117</td>\n",
       "      <td>-0.174039</td>\n",
       "      <td>3.956708e+06</td>\n",
       "      <td>2.092094</td>\n",
       "      <td>9</td>\n",
       "      <td>115.740703</td>\n",
       "    </tr>\n",
       "    <tr>\n",
       "      <th>14</th>\n",
       "      <td>199995</td>\n",
       "      <td>75.905989</td>\n",
       "      <td>43.335098</td>\n",
       "      <td>1.288703</td>\n",
       "      <td>158.200311</td>\n",
       "      <td>-1.560600</td>\n",
       "      <td>0.233306</td>\n",
       "      <td>1.020907e+06</td>\n",
       "      <td>3.143284</td>\n",
       "      <td>10</td>\n",
       "      <td>110.380208</td>\n",
       "    </tr>\n",
       "  </tbody>\n",
       "</table>\n",
       "</div>"
      ],
      "text/plain": [
       "        it    emestar         rc      qest    sigmag_0      emed    emetal  \\\n",
       "0   199993  75.157068  59.882370  1.110726   51.287674 -2.040144  0.077070   \n",
       "1   198840  74.422324  40.040195  3.201758   16.765976 -3.962790 -0.092791   \n",
       "2   199995  75.360733  40.647163  1.965345   67.644768 -2.538181  0.514770   \n",
       "3   199755  74.967751  29.539343  9.568532   16.213096 -4.604171  0.328146   \n",
       "4   199319  74.742551  61.195038  2.230675   15.866622 -3.169848 -0.220031   \n",
       "5   199834  75.485455  38.977428  5.082291   31.660674 -3.381101 -0.150160   \n",
       "6   198714  74.912779  47.343380  5.121542   12.623480 -3.911523  0.021273   \n",
       "7   199619  74.853960  42.739063  3.225643   22.460303 -3.540115 -0.092571   \n",
       "8   198489  75.488793  58.158928  4.369815   18.402952 -3.123338 -0.282408   \n",
       "9   199991  75.323966  30.851170  1.224490  163.499726 -2.207184 -0.065073   \n",
       "10  199732  74.617005  42.180790  2.386844   24.649033 -3.473446 -0.098942   \n",
       "11  199950  75.296079  41.715393  4.098646   29.266948 -3.323959  0.112764   \n",
       "12  188333  74.706342  54.821281  3.337089   12.238906 -3.649274 -0.386253   \n",
       "13  199916  75.783002  36.672222  3.314294   73.636171 -2.659117 -0.174039   \n",
       "14  199995  75.905989  43.335098  1.288703  158.200311 -1.560600  0.233306   \n",
       "\n",
       "          taugas  emepla(i)/emet  n_planets  m_efficiency  \n",
       "0   9.268935e+06        2.096372         11     62.589101  \n",
       "1   3.525594e+06        1.039386         13    148.814199  \n",
       "2   9.390406e+06        2.076882          9    101.006870  \n",
       "3   1.644711e+06        1.938003         18    694.485525  \n",
       "4   9.468353e+06        1.161167         10     76.039252  \n",
       "5   1.014449e+06        1.539754         19    137.159726  \n",
       "6   1.790533e+06        1.220502         17    169.443990  \n",
       "7   2.721395e+06        1.674280         12    183.963532  \n",
       "8   6.017040e+06        1.385713         12     90.856065  \n",
       "9   1.576468e+06        2.360289         11     96.309095  \n",
       "10  7.294462e+06        1.660690         10    169.772032  \n",
       "11  9.624999e+06        2.158372          7    240.472960  \n",
       "12  1.458284e+06       -0.823915          5     16.873102  \n",
       "13  3.956708e+06        2.092094          9    115.740703  \n",
       "14  1.020907e+06        3.143284         10    110.380208  "
      ]
     },
     "execution_count": 9,
     "metadata": {},
     "output_type": "execute_result"
    }
   ],
   "source": [
    "# Loads data (Fills NaN values as 0 for simplicity) THERE IS ONLY ONE NaN VALUE \n",
    "data=pd.read_csv(\"./Data/highp_finalresults.csv\",sep = ',',\n",
    "                 engine = 'python',skipinitialspace = True,na_values = 'NaN ').fillna(0)\n",
    "# Each row, (for now is a different planet)\n",
    "# Adds column named n_planet___ it is later going to be summed\n",
    "data[\"n_planets\"] = 1\n",
    "\n",
    "# Selects useful planet data only to produce: number of planets, total mass of planets. \n",
    "# Identity of system is conserved\n",
    "planet_data = data[['ident','emepla(i)/emet','n_planets']]\n",
    "\n",
    "# Selects system data only. \n",
    "# System columns corresponding to initial condition\n",
    "# According to repository README.md, we have to drop: a(i),emegas(i),emepla(i)/emed,rplanet(i)/radtie\n",
    "system_data = data.drop(['a(i)','emegas(i)','emepla(i)/emet','rplanet(i)/radtie','n_planets'],1)\n",
    "\n",
    "# System data is repeated as rows represent planets -> so we take the mean\n",
    "system_data = system_data.groupby(system_data['ident']).mean()\n",
    "\n",
    "# From planets data it is only necesary the total data (total mass, total number of planets)\n",
    "planet_data = planet_data.groupby(planet_data['ident']).sum()\n",
    "\n",
    "# Concatenate two data frames to obtain final formatted data\n",
    "data = pd.concat([system_data,planet_data], axis=1).reset_index()\n",
    "\n",
    "# Drops unimportant parameters with null std()\n",
    "# 0,2,8,9,10,11 are unimportant parameters\n",
    "# Data for the first point\n",
    "print(data.keys()[[0,2,8,9,10,11]])\n",
    "data = data.drop(data.keys()[[0,2,8,9,10,11]],1)\n",
    "\n",
    "# Creates column corresponding to mass efficiency\n",
    "data['m_efficiency'] = data['emepla(i)/emet']/data['emed']\n",
    "\n",
    "# Logarithmic scales for mass-related parameters (1e-5 to avoid log(0)=-infty)\n",
    "data['emepla(i)/emet'] = np.log(data['emepla(i)/emet']+1e-5)\n",
    "data['emestar'] = np.log(data['emestar']+1e-5)\n",
    "data['emed'] = np.log(data['emed']+1e-5)\n",
    "#data['sigmag_0'] = np.log(data['sigmag_0']+1e-5)\n",
    "\n",
    "# Important position of parameters\n",
    "print(' total mass, number of planets, mass efficiency',np.where(data.keys()=='n_planets'),\n",
    "      np.where(data.keys()=='emepla(i)/emet'),np.where(data.keys()=='m_efficiency'))\n",
    "\n",
    "# Shows variable data\n",
    "data.head(15)"
   ]
  },
  {
   "cell_type": "markdown",
   "metadata": {
    "collapsed": true,
    "deletable": true,
    "editable": true
   },
   "source": [
    "# The Regression\n",
    "\n",
    "We chose nearest neighbor method to predict the required parameters given some training data.\n",
    "\n",
    "This algorithm is similar to that analogue of classification where nearest neighbors 'vote' to decide the label of a poind determined by X. Here, an average (it can be weighted) is taken to produce the continuous output for the prediction variable.\n",
    "\n",
    "For each of the wanted predictions: (number of planets, total mass, mass efficiency), this method is going to be applied. But first, it is going to be chosen the optimal parameters.\n",
    "\n",
    "The parameters we are going to vary are just the weight function, which can be 'uniform' (each neighbor has the same power of decision on the average) or 'distance' (nearest neighbors have more weight than farther neighbors); and the number of neighbors to have into account\n",
    "\n",
    "To decide which method is more efficient, we use the usual exponential of $\\chi^2$ as efficiency function:\n",
    "\n",
    "$$ \\varepsilon = exp\\left(-\\frac{1}{2}\\frac{\\sum_{i=1}^N (y_i^*-y_i)^2}{N\\sigma_y^2}\\right)$$\n",
    "\n",
    "Here $y^*_i$ is the prediced value and $y_i$ is the real value. $N$ is the number of data and $\\sigma_y$ is the standard deviation of the data set $\\{y_i\\}$. This efficiency $\\epsilon$ has the property that is scale-invariant and does not (in general) increases with the size of the data set $\\{y_i\\}$."
   ]
  },
  {
   "cell_type": "code",
   "execution_count": 17,
   "metadata": {
    "collapsed": false
   },
   "outputs": [],
   "source": [
    "# Efficiency function\n",
    "def efficiency(y_predicted, y_test):\n",
    "    return np.exp(-0.5*(sum((y_predicted-y_test)**2)/(len(y_test)*(y_test.std()**2))))\n",
    "\n",
    "# This function gets efficiencies for varying parameters> weights and n_neighbors\n",
    "def getEffs(Xdata,Ydata, nmax):\n",
    "\n",
    "    # Splits data into trainig and test set.\n",
    "    X_train, X_test, y_train, y_test = train_test_split(Xdata, Ydata, test_size=0.25,\n",
    "                                                    random_state=int(100*np.random.random()))\n",
    "    # Empty lists of efficiencies\n",
    "    uniform = []\n",
    "    distance = []\n",
    "                                                        \n",
    "    # number of neighbors vary from [1 to nmax)\n",
    "    for i in range(1,nmax):\n",
    "                                                        \n",
    "        # Initializes the regressor with uniform weight\n",
    "        neigh = KNeighborsRegressor(n_neighbors=i, weights = 'uniform' )\n",
    "        # Algorithm training\n",
    "        neigh.fit(X_train, y_train)\n",
    "        # Prediction from test                                                \n",
    "        y_predicted = neigh.predict(X_test)\n",
    "        # Efficiency\n",
    "        epsilon = efficiency(y_predicted,y_test)\n",
    "        # Append\n",
    "        uniform.append(epsilon)\n",
    "        \n",
    "        # Process is repeated for distance-weighted algorithm\n",
    "        neigh = KNeighborsRegressor(n_neighbors=i, weights = 'distance' )\n",
    "        neigh.fit(X_train, y_train)\n",
    "        y_predicted = neigh.predict(X_test)\n",
    "        epsilon = efficiency(y_predicted,y_test)\n",
    "        distance.append(epsilon)\n",
    "        \n",
    "    uniform = np.array(uniform)\n",
    "    distance = np.array(distance)\n",
    "    return uniform,distance\n",
    "\n",
    "# This method trains the algorithm and returns the trained object ready for predictions.\n",
    "# Parameters weight and number_neighs to be given\n",
    "def getNeigh( X_train, y_train,weight='uniform',number_neighs=5):\n",
    "    # Initializes the regressor with uniform weight\n",
    "    neigh = KNeighborsRegressor(n_neighbors=number_neighs, weights = weight )\n",
    "    # Algorithm training\n",
    "    neigh.fit(X_train, y_train)\n",
    "    \n",
    "    return neigh"
   ]
  },
  {
   "cell_type": "markdown",
   "metadata": {},
   "source": [
    "# Number of planets prediction\n",
    "# Number of planets prediction\n",
    "# Number of planets prediction\n"
   ]
  },
  {
   "cell_type": "code",
   "execution_count": 56,
   "metadata": {
    "collapsed": false
   },
   "outputs": [
    {
     "name": "stdout",
     "output_type": "stream",
     "text": [
      "emepla(i)/emet n_planets\n"
     ]
    }
   ],
   "source": [
    "# Non initial condition parameters are dropped (total mass, mass efficiency)\n",
    "#data[data.keys()[9]] = np.log(data[data.keys()[9]]+1e-5)\n",
    "print(data.keys()[8],data.keys()[9])\n",
    "Xdata =  data[data.keys()[:8]]\n",
    "Ydata =  data[data.keys()[9]]\n",
    "# Gets the efficiencies\n",
    "nmax = 20\n",
    "uniform,distance = getEffs(Xdata,Ydata,nmax)"
   ]
  },
  {
   "cell_type": "code",
   "execution_count": 57,
   "metadata": {
    "collapsed": false
   },
   "outputs": [
    {
     "data": {
      "text/plain": [
       "<matplotlib.legend.Legend at 0x7fee37441710>"
      ]
     },
     "execution_count": 57,
     "metadata": {},
     "output_type": "execute_result"
    },
    {
     "data": {
      "image/png": "[encoded data removed]",
      "text/plain": [
       "<matplotlib.figure.Figure at 0x7fee3768af98>"
      ]
     },
     "metadata": {},
     "output_type": "display_data"
    }
   ],
   "source": [
    "maxi  = max([max(distance),max(uniform)])\n",
    "plt.plot(range(1,nmax),distance, label = 'distance weight')\n",
    "plt.plot(range(1,nmax),uniform, label = 'uniform weight')\n",
    "plt.plot([0,nmax],[maxi,maxi], label = 'reference')\n",
    "plt.xlabel('Number of nearest neighbors')\n",
    "plt.ylabel('Eficiency')\n",
    "plt.title('Efficiency comparation')\n",
    "plt.legend()"
   ]
  },
  {
   "cell_type": "markdown",
   "metadata": {},
   "source": [
    "# Total Mass prediction\n",
    "# Total Mass prediction\n",
    "# Total Mass prediction"
   ]
  },
  {
   "cell_type": "code",
   "execution_count": 60,
   "metadata": {
    "collapsed": false
   },
   "outputs": [
    {
     "name": "stdout",
     "output_type": "stream",
     "text": [
      "emepla(i)/emet emepla(i)/emet\n"
     ]
    }
   ],
   "source": [
    "# Non initial condition parameters are dropped (total mass, mass efficiency)\n",
    "print(data.keys()[8],data.keys()[8])\n",
    "Xdata =  data[data.keys()[:8]]\n",
    "Ydata =  data[data.keys()[8]]\n",
    "# Gets the efficiencies\n",
    "nmax = 20\n",
    "uniform,distance = getEffs(Xdata,Ydata,nmax)"
   ]
  },
  {
   "cell_type": "code",
   "execution_count": 61,
   "metadata": {
    "collapsed": false
   },
   "outputs": [
    {
     "data": {
      "text/plain": [
       "<matplotlib.legend.Legend at 0x7fee37719b00>"
      ]
     },
     "execution_count": 61,
     "metadata": {},
     "output_type": "execute_result"
    },
    {
     "data": {
      "image/png": "[encoded data removed]",
      "text/plain": [
       "<matplotlib.figure.Figure at 0x7fee37483278>"
      ]
     },
     "metadata": {},
     "output_type": "display_data"
    }
   ],
   "source": [
    "maxi  = max([max(distance),max(uniform)])\n",
    "plt.plot(range(1,nmax),distance, label = 'distance weight')\n",
    "plt.plot(range(1,nmax),uniform, label = 'uniform weight')\n",
    "plt.plot([0,nmax],[maxi,maxi], label = 'reference')\n",
    "plt.xlabel('Number of nearest neighbors')\n",
    "plt.ylabel('Eficiency')\n",
    "plt.title('Efficiency comparation')\n",
    "plt.legend()"
   ]
  },
  {
   "cell_type": "markdown",
   "metadata": {},
   "source": [
    "# Mass_Efficiency prediction\n",
    "# Mass_Efficiency prediction\n",
    "# Mass_Efficiency prediction"
   ]
  },
  {
   "cell_type": "code",
   "execution_count": 67,
   "metadata": {
    "collapsed": false
   },
   "outputs": [
    {
     "name": "stdout",
     "output_type": "stream",
     "text": [
      "emepla(i)/emet m_efficiency\n"
     ]
    }
   ],
   "source": [
    "# Non initial condition parameters are dropped (total mass, mass efficiency)\n",
    "# Disk information is dropped. If this is included, this prediction is the same as the prediction of the total mass\n",
    "data2 = data.drop('emed',1)\n",
    "print(data2.keys()[7],data2.keys()[9])\n",
    "Xdata =  data2[data2.keys()[:7]]\n",
    "Ydata =  data2[data2.keys()[9]]\n",
    "# Gets the efficiencies\n",
    "nmax = 100\n",
    "uniform,distance = getEffs(Xdata,Ydata,nmax)"
   ]
  },
  {
   "cell_type": "code",
   "execution_count": 68,
   "metadata": {
    "collapsed": false
   },
   "outputs": [
    {
     "data": {
      "text/plain": [
       "<matplotlib.legend.Legend at 0x7fee37260f28>"
      ]
     },
     "execution_count": 68,
     "metadata": {},
     "output_type": "execute_result"
    },
    {
     "data": {
      "image/png": "[encoded data removed]",
      "text/plain": [
       "<matplotlib.figure.Figure at 0x7fee3759def0>"
      ]
     },
     "metadata": {},
     "output_type": "display_data"
    }
   ],
   "source": [
    "maxi  = max([max(distance),max(uniform)])\n",
    "plt.plot(range(1,nmax),distance, label = 'distance weight')\n",
    "plt.plot(range(1,nmax),uniform, label = 'uniform weight')\n",
    "plt.plot([0,nmax],[maxi,maxi], label = 'reference')\n",
    "plt.xlabel('Number of nearest neighbors')\n",
    "plt.ylabel('Eficiency')\n",
    "plt.title('Efficiency comparation')\n",
    "plt.legend()"
   ]
  },
  {
   "cell_type": "code",
   "execution_count": null,
   "metadata": {
    "collapsed": true
   },
   "outputs": [],
   "source": []
  }
 ],
 "metadata": {
  "kernelspec": {
   "display_name": "Python 3",
   "language": "python",
   "name": "python3"
  },
  "language_info": {
   "codemirror_mode": {
    "name": "ipython",
    "version": 3
   },
   "file_extension": ".py",
   "mimetype": "text/x-python",
   "name": "python",
   "nbconvert_exporter": "python",
   "pygments_lexer": "ipython3",
   "version": "3.5.2"
  }
 },
 "nbformat": 4,
 "nbformat_minor": 2
}
